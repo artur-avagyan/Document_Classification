{
 "cells": [
  {
   "cell_type": "markdown",
   "id": "587fb061",
   "metadata": {},
   "source": [
    "## Model inference"
   ]
  },
  {
   "cell_type": "markdown",
   "id": "7059befc",
   "metadata": {},
   "source": [
    "### Inport packages"
   ]
  },
  {
   "cell_type": "code",
   "execution_count": 1,
   "id": "eb3c25d0",
   "metadata": {
    "ExecuteTime": {
     "end_time": "2022-04-08T07:34:27.258893Z",
     "start_time": "2022-04-08T07:34:24.337434Z"
    }
   },
   "outputs": [
    {
     "name": "stderr",
     "output_type": "stream",
     "text": [
      "C:\\Users\\Artur_Avagyan\\anaconda3\\lib\\site-packages\\numpy\\_distributor_init.py:30: UserWarning: loaded more than 1 DLL from .libs:\n",
      "C:\\Users\\Artur_Avagyan\\anaconda3\\lib\\site-packages\\numpy\\.libs\\libopenblas.GK7GX5KEQ4F6UYO3P26ULGBQYHGQO7J4.gfortran-win_amd64.dll\n",
      "C:\\Users\\Artur_Avagyan\\anaconda3\\lib\\site-packages\\numpy\\.libs\\libopenblas.WCDJNK7YVMPZQ2ME2ZZHJJRJ3JIKNDB7.gfortran-win_amd64.dll\n",
      "  warnings.warn(\"loaded more than 1 DLL from .libs:\"\n",
      "C:\\Users\\Artur_Avagyan\\anaconda3\\lib\\site-packages\\torchvision\\io\\image.py:11: UserWarning: Failed to load image Python extension: Could not find module 'C:\\Users\\Artur_Avagyan\\anaconda3\\Lib\\site-packages\\torchvision\\image.pyd' (or one of its dependencies). Try using the full path with constructor syntax.\n",
      "  warn(f\"Failed to load image Python extension: {e}\")\n"
     ]
    }
   ],
   "source": [
    "import torch\n",
    "import torchvision\n",
    "from torchvision.transforms import Compose, ToTensor, Resize\n",
    "from torchvision import datasets, models, transforms\n",
    "from PIL import Image\n",
    "import os\n",
    "import re\n",
    "import nltk\n",
    "import pytesseract as pt\n",
    "import joblib\n",
    "from PIL import Image\n",
    "from tqdm import tqdm\n",
    "import fasttext\n",
    "import time\n",
    "import numpy as np"
   ]
  },
  {
   "cell_type": "markdown",
   "id": "4d1f4367",
   "metadata": {},
   "source": [
    "### Our `FinalModel` class"
   ]
  },
  {
   "cell_type": "code",
   "execution_count": 4,
   "id": "60807d98",
   "metadata": {
    "ExecuteTime": {
     "end_time": "2022-04-08T07:34:32.993588Z",
     "start_time": "2022-04-08T07:34:32.969652Z"
    }
   },
   "outputs": [
    {
     "name": "stderr",
     "output_type": "stream",
     "text": [
      "[nltk_data] Downloading package punkt to\n",
      "[nltk_data]     C:\\Users\\Artur_Avagyan\\AppData\\Roaming\\nltk_data...\n",
      "[nltk_data]   Package punkt is already up-to-date!\n",
      "[nltk_data] Downloading package wordnet to\n",
      "[nltk_data]     C:\\Users\\Artur_Avagyan\\AppData\\Roaming\\nltk_data...\n",
      "[nltk_data]   Package wordnet is already up-to-date!\n"
     ]
    }
   ],
   "source": [
    "class FinalModel():\n",
    "    \"\"\"\n",
    "    Class for document classification\n",
    "    Input: image\n",
    "    Output: predicted class label\n",
    "    \"\"\"\n",
    "    # dictionary for image classification\n",
    "    dict_img_class = {\n",
    "            0 : 'ad',\n",
    "            1 : 'file',\n",
    "            2 : 'handwritten',\n",
    "            3 : 'others'\n",
    "        }\n",
    "    \n",
    "    # dictionary for text classification\n",
    "    dict_text_class = {\n",
    "        0 : 'cv',\n",
    "        1 : 'email',\n",
    "        2 : 'invoice',\n",
    "        3 : 'letter',\n",
    "        4 : 'memorandum',\n",
    "        5 : 'newspaper',\n",
    "        6 : 'publication',\n",
    "        7 : 'report',\n",
    "        8 : 'specification',\n",
    "        9 : 'survey'\n",
    "    }\n",
    "    \n",
    "    # dictionary for document classification\n",
    "    dict_model_class = {\n",
    "        'ad' : 0,\n",
    "        'cv' : 1,\n",
    "        'email' : 2,\n",
    "        'file' : 3,\n",
    "        'handwritten' : 4,\n",
    "        'invoice' : 5,\n",
    "        'letter' : 6,\n",
    "        'memorandum' : 7,\n",
    "        'newspaper' : 8,\n",
    "        'publication' : 9,\n",
    "        'report' : 10,\n",
    "        'specification' :11,\n",
    "        'survey':12\n",
    "    }\n",
    "    nltk.download('punkt')\n",
    "    nltk.download('wordnet')\n",
    "\n",
    "    nltk_lemmatizer = WordNetLemmatizer()\n",
    "    \n",
    "    def __init__(self,\n",
    "                 img_clf_path,\n",
    "                 tesseract_path,\n",
    "                 text_clf_path,\n",
    "                 data_transforms\n",
    "                ):\n",
    "               \n",
    "        self.img_clf = models.vgg16(pretrained=False) # import vgg16\n",
    "        self.img_clf.classifier[-1] = torch.nn.Linear(4096,4) # change last layer\n",
    "        self.img_clf = self.img_clf.to('cpu') # device to cpu\n",
    "        \n",
    "        self.img_clf.load_state_dict(torch.load(img_clf_path, map_location = 'cpu')) # import model architecture\n",
    "             \n",
    "        self.tesseract_path = tesseract_path # set pytesseract path\n",
    "        \n",
    "        self.text_clf = fasttext.load_model(text_clf_path) # import fasttext model\n",
    "        \n",
    "        self.data_transforms = data_transforms # import data trasnformation\n",
    "    \n",
    "    @staticmethod\n",
    "    def text_preprocessing(text):\n",
    "        \"\"\"\n",
    "        Function for Text Pre-processing\n",
    "        Input: text\n",
    "        Output: text after preprocessing\n",
    "        \"\"\"\n",
    "        stopwords = [\n",
    "            'ourselves', 'hers', 'between', 'yourself', 'but', 'again', 'there',\n",
    "            'about', 'once', 'during', 'out', 'very', 'having', 'with', 'they',\n",
    "            'own', 'an', 'be', 'some', 'for', 'do', 'its', 'yours', 'such',\n",
    "            'into', 'of', 'most', 'itself', 'other', 'off', 'is', 's', 'am',\n",
    "            'or', 'who', 'as', 'him', 'each', 'the', 'themselves', 'until',\n",
    "            'below', 'are', 'we', 'these', 'your', 'his', 'through', 'don', 'nor',\n",
    "            'me', 'were', 'her', 'more', 'himself', 'this', 'down', 'should', 'our',\n",
    "            'their', 'while', 'above', 'both', 'up', 'to', 'ours', 'had',\n",
    "            'all', 'no', 'at', 'any', 'before', 'them', 'same', 'and',\n",
    "            'been', 'have', 'in', 'will', 'on', 'does', 'yourselves', 'then', 'that',\n",
    "            'because', 'what', 'over', 'why', 'so', 'can', 'did', 'not', 'under',\n",
    "            'you', 'herself', 'has', 'just', 'too', 'only', 'myself',\n",
    "            'which', 'those', 'i', 'few', 'whom', 't', 'being', 'if', 'theirs',\n",
    "            'my', 'against', 'a', 'by', 'doing', 'it', 'further', 'was', 'here', 'than'\n",
    "        ] # stopwords for our task\n",
    "        \n",
    "        # do some text pre-processing\n",
    "        text = re.sub(r'[^\\w\\s]', '', text)\n",
    "        text = text.lower()\n",
    "        text = ' '.join([nltk_lemmatizer.lemmatize(word) for word in nltk.word_tokenize(text)])\n",
    "        text = ''.join([char if char.isalnum() or char == ' ' else ' ' for char in text])\n",
    "        text = ' '.join(text.split())\n",
    "        text = \" \".join(word for word in text.split() if word not in stopwords)\n",
    "        return text\n",
    "    \n",
    "    @staticmethod\n",
    "    def img_2_text(img_path, tesseract_path = r'C:\\Program Files\\Tesseract-OCR\\tesseract.exe'):\n",
    "        \"\"\"\n",
    "        Function for extract text from image\n",
    "        Input: image\n",
    "        Output: extracted text\n",
    "        \"\"\"\n",
    "        pt.pytesseract.tesseract_cmd = tesseract_path\n",
    "        img_object = Image.open(img_path)\n",
    "        img_text = pt.image_to_string(img_object)\n",
    "        return img_text\n",
    "\n",
    "        \n",
    "    def classify_one_image(self,image_path):\n",
    "        \"\"\"\n",
    "        Function for classifing image\n",
    "        Input: image\n",
    "        Output: predicted label\n",
    "        \"\"\"\n",
    "        \n",
    "        img = Image.open(image_path).convert('RGB') # open image with path\n",
    "        transform_image = self.data_transforms(img) # do image transformation\n",
    "        img_unsqz = torch.unsqueeze(transform_image,0) # add 3rd channel\n",
    "        self.img_clf.eval() # set model for evaluation\n",
    "        pred = self.img_clf(img_unsqz) # do classification\n",
    "        pred_label = torch.argmax(pred).item() # find predicted image label\n",
    "        if  pred_label != 3: # chacke predicted label\n",
    "            print(f\"Image class is {FinalModel.dict_img_class[pred_label]}\") # print result\n",
    "            return FinalModel.dict_model_class[FinalModel.dict_img_class[pred_label]]\n",
    "        else:\n",
    "            text_from_img = FinalModel.img_2_text(image_path, self.tesseract_path).replace('\\n',' ') # extract text from image\n",
    "            text_prepr = FinalModel.text_preprocessing(text_from_img) # do text pre-processing\n",
    "            pred_label = int(self.text_clf.predict([text_prepr])[0][0][0].split('_')[-1]) # predicted text label\n",
    "            print(f\"Image class is {FinalModel.dict_text_class[pred_label]}\") # print result\n",
    "            return FinalModel.dict_model_class[FinalModel.dict_text_class[pred_label]]\n",
    "            "
   ]
  },
  {
   "cell_type": "markdown",
   "id": "0276f59a",
   "metadata": {},
   "source": [
    "### Import  image transformation and our Model"
   ]
  },
  {
   "cell_type": "code",
   "execution_count": 5,
   "id": "2342db6d",
   "metadata": {
    "ExecuteTime": {
     "end_time": "2022-04-08T07:34:56.188684Z",
     "start_time": "2022-04-08T07:34:38.906858Z"
    }
   },
   "outputs": [
    {
     "name": "stderr",
     "output_type": "stream",
     "text": [
      "Warning : `load_model` does not return WordVectorModel or SupervisedModel any more, but a `FastText` object which is very similar.\n"
     ]
    }
   ],
   "source": [
    "data_transform = transforms.Compose(\n",
    "    [\n",
    "        transforms.Resize(224),\n",
    "        transforms.ToTensor(),\n",
    "        transforms.Normalize([0.485, 0.456, 0.406], [0.229, 0.224, 0.225])\n",
    "    ]\n",
    ")\n",
    "\n",
    "my_model = FinalModel(\n",
    "    img_clf_path = './final_4_label/model_vgg_label_4_epoch_20_final.pth',\n",
    "    tesseract_path =  r'C:\\Program Files\\Tesseract-OCR\\tesseract.exe',\n",
    "    text_clf_path = \"./final_text/fastext_best_model.bin\",\n",
    "    data_transforms = data_transform,\n",
    ")"
   ]
  },
  {
   "cell_type": "markdown",
   "id": "92db0654",
   "metadata": {},
   "source": [
    "### Classify one example"
   ]
  },
  {
   "cell_type": "code",
   "execution_count": 14,
   "id": "fdc1cd26",
   "metadata": {
    "ExecuteTime": {
     "end_time": "2022-04-07T18:51:15.500897Z",
     "start_time": "2022-04-07T18:51:15.136213Z"
    }
   },
   "outputs": [
    {
     "data": {
      "text/plain": [
       "0"
      ]
     },
     "execution_count": 14,
     "metadata": {},
     "output_type": "execute_result"
    }
   ],
   "source": [
    "my_model.classify_one_image('143.jpg')"
   ]
  },
  {
   "cell_type": "markdown",
   "id": "0f156057",
   "metadata": {},
   "source": [
    "### Model testing"
   ]
  },
  {
   "cell_type": "code",
   "execution_count": 6,
   "id": "f254d7dc",
   "metadata": {
    "ExecuteTime": {
     "end_time": "2022-04-08T11:29:01.228559Z",
     "start_time": "2022-04-08T07:35:56.832746Z"
    },
    "scrolled": false
   },
   "outputs": [
    {
     "name": "stderr",
     "output_type": "stream",
     "text": [
      " 16%|████████████▋                                                                  | 999/6196 [05:11<26:57,  3.21it/s]\n"
     ]
    },
    {
     "name": "stdout",
     "output_type": "stream",
     "text": [
      "\n",
      "ad done\n",
      "run_time ----> 5 min, 12 sec\n",
      "\n"
     ]
    },
    {
     "name": "stderr",
     "output_type": "stream",
     "text": [
      " 16%|████████████▍                                                                | 999/6199 [24:07<2:05:36,  1.45s/it]"
     ]
    },
    {
     "name": "stdout",
     "output_type": "stream",
     "text": [
      "\n",
      "cv done\n",
      "run_time ----> 24 min, 8 sec\n",
      "\n"
     ]
    },
    {
     "name": "stderr",
     "output_type": "stream",
     "text": [
      "\n",
      " 16%|████████████▎                                                                | 999/6245 [18:32<1:37:23,  1.11s/it]"
     ]
    },
    {
     "name": "stdout",
     "output_type": "stream",
     "text": [
      "\n",
      "email done\n",
      "run_time ----> 18 min, 32 sec\n",
      "\n"
     ]
    },
    {
     "name": "stderr",
     "output_type": "stream",
     "text": [
      "\n",
      " 16%|████████████▍                                                                  | 999/6323 [05:58<31:49,  2.79it/s]\n"
     ]
    },
    {
     "name": "stdout",
     "output_type": "stream",
     "text": [
      "\n",
      "file done\n",
      "run_time ----> 5 min, 58 sec\n",
      "\n"
     ]
    },
    {
     "name": "stderr",
     "output_type": "stream",
     "text": [
      " 16%|████████████▉                                                                  | 999/6121 [06:16<32:12,  2.65it/s]\n"
     ]
    },
    {
     "name": "stdout",
     "output_type": "stream",
     "text": [
      "\n",
      "handwritten done\n",
      "run_time ----> 6 min, 17 sec\n",
      "\n"
     ]
    },
    {
     "name": "stderr",
     "output_type": "stream",
     "text": [
      " 16%|████████████▍                                                                | 999/6196 [18:01<1:33:47,  1.08s/it]"
     ]
    },
    {
     "name": "stdout",
     "output_type": "stream",
     "text": [
      "\n",
      "invoice done\n",
      "run_time ----> 18 min, 1 sec\n",
      "\n"
     ]
    },
    {
     "name": "stderr",
     "output_type": "stream",
     "text": [
      "\n",
      " 16%|████████████▏                                                                | 999/6286 [22:16<1:57:50,  1.34s/it]\n"
     ]
    },
    {
     "name": "stdout",
     "output_type": "stream",
     "text": [
      "\n",
      "letter done\n",
      "run_time ----> 22 min, 16 sec\n",
      "\n"
     ]
    },
    {
     "name": "stderr",
     "output_type": "stream",
     "text": [
      " 16%|████████████▎                                                                | 999/6222 [41:43<3:38:09,  2.51s/it]\n"
     ]
    },
    {
     "name": "stdout",
     "output_type": "stream",
     "text": [
      "\n",
      "memorandum done\n",
      "run_time ----> 41 min, 43 sec\n",
      "\n"
     ]
    },
    {
     "name": "stderr",
     "output_type": "stream",
     "text": [
      " 16%|████████████▍                                                                | 999/6198 [17:52<1:32:59,  1.07s/it]"
     ]
    },
    {
     "name": "stdout",
     "output_type": "stream",
     "text": [
      "\n",
      "newspaper done\n",
      "run_time ----> 17 min, 52 sec\n",
      "\n"
     ]
    },
    {
     "name": "stderr",
     "output_type": "stream",
     "text": [
      "\n",
      " 16%|████████████▏                                                                | 999/6290 [26:17<2:19:13,  1.58s/it]\n"
     ]
    },
    {
     "name": "stdout",
     "output_type": "stream",
     "text": [
      "\n",
      "publication done\n",
      "run_time ----> 26 min, 17 sec\n",
      "\n"
     ]
    },
    {
     "name": "stderr",
     "output_type": "stream",
     "text": [
      " 16%|████████████▏                                                                | 999/6285 [14:52<1:18:41,  1.12it/s]\n"
     ]
    },
    {
     "name": "stdout",
     "output_type": "stream",
     "text": [
      "\n",
      "report done\n",
      "run_time ----> 14 min, 52 sec\n",
      "\n"
     ]
    },
    {
     "name": "stderr",
     "output_type": "stream",
     "text": [
      " 16%|████████████▎                                                                | 999/6259 [16:46<1:28:17,  1.01s/it]\n"
     ]
    },
    {
     "name": "stdout",
     "output_type": "stream",
     "text": [
      "\n",
      "specification done\n",
      "run_time ----> 16 min, 46 sec\n",
      "\n"
     ]
    },
    {
     "name": "stderr",
     "output_type": "stream",
     "text": [
      " 16%|████████████▎                                                                | 999/6235 [15:04<1:19:01,  1.10it/s]"
     ]
    },
    {
     "name": "stdout",
     "output_type": "stream",
     "text": [
      "\n",
      "survey done\n",
      "run_time ----> 15 min, 4 sec\n",
      "\n"
     ]
    },
    {
     "name": "stderr",
     "output_type": "stream",
     "text": [
      "\n"
     ]
    }
   ],
   "source": [
    "# dictionary for document classifiaction\n",
    "dict_model_class = {\n",
    "        'ad' : 0,\n",
    "        'cv' : 1,\n",
    "        'email' : 2,\n",
    "        'file' : 3,\n",
    "        'handwritten' : 4,\n",
    "        'invoice' : 5,\n",
    "        'letter' : 6,\n",
    "        'memorandum' : 7,\n",
    "        'newspaper' : 8,\n",
    "        'publication' : 9,\n",
    "        'report' : 10,\n",
    "        'specification' :11,\n",
    "        'survey':12\n",
    "    }\n",
    "\n",
    "actual = [] # list for actual data\n",
    "preds = [] # list for predicted data\n",
    "for i in os.listdir('../img/train/'): # loop for image labels\n",
    "    count = 0 # count for images\n",
    "    start_time = time.time()\n",
    "    for j in tqdm(os.listdir(f'../img/train/{i}/')): # loop for images\n",
    "        result = my_model.classify_one_image(f'../img/train/{i}/{j}') # classify image\n",
    "        preds.append(result) # add predicted label in list\n",
    "        actual.append(dict_model_class[i]) # add actual label in list\n",
    "        count+=1\n",
    "        if count == 1000: # check count for label and print run time\n",
    "            end_time = time.time()\n",
    "            run_time_min = (end_time-start_time) // 60\n",
    "            run_time_sec = np.round((end_time-start_time) % 60,2)\n",
    "            print(f'\\n{i} done\\nrun_time ----> {int(run_time_min)} min, {int(run_time_sec)} sec\\n')\n",
    "            break"
   ]
  },
  {
   "cell_type": "markdown",
   "id": "c4f200b1",
   "metadata": {},
   "source": [
    "### Model accuracy"
   ]
  },
  {
   "cell_type": "code",
   "execution_count": 7,
   "id": "84b6ab77",
   "metadata": {
    "ExecuteTime": {
     "end_time": "2022-04-08T11:29:29.900971Z",
     "start_time": "2022-04-08T11:29:29.875074Z"
    }
   },
   "outputs": [
    {
     "data": {
      "text/plain": [
       "0.8874615384615384"
      ]
     },
     "execution_count": 7,
     "metadata": {},
     "output_type": "execute_result"
    }
   ],
   "source": [
    "import numpy as np\n",
    "(np.array(actual) == np.array(preds)).mean()"
   ]
  },
  {
   "cell_type": "markdown",
   "id": "2713504c",
   "metadata": {},
   "source": [
    "### `Confution matrix` for text data"
   ]
  },
  {
   "cell_type": "code",
   "execution_count": 9,
   "id": "f43fa1d8",
   "metadata": {
    "ExecuteTime": {
     "end_time": "2022-04-08T11:29:59.587452Z",
     "start_time": "2022-04-08T11:29:58.338787Z"
    }
   },
   "outputs": [
    {
     "data": {
      "image/png": "[encoded data removed]",
      "text/plain": [
       "<Figure size 1080x1080 with 2 Axes>"
      ]
     },
     "metadata": {
      "needs_background": "light"
     },
     "output_type": "display_data"
    }
   ],
   "source": [
    "import seaborn as sns\n",
    "import matplotlib.pyplot as plt\n",
    "from sklearn.metrics import confusion_matrix\n",
    "\n",
    "cm = confusion_matrix(actual, preds)\n",
    "\n",
    "plt.figure(figsize = (15,15))\n",
    "ax = sns.heatmap(cm, annot=True, cmap='Blues')\n",
    "\n",
    "ax.set_title('Confusion Matrix with labels\\n\\n');\n",
    "ax.set_yticklabels(ax.get_yticklabels(), rotation = 30, fontsize = 10)\n",
    "ax.set_xticklabels(ax.get_xticklabels(), rotation = 30, fontsize = 10)\n",
    "ax.set_xlabel('\\nPredicted Values')\n",
    "ax.set_ylabel('Actual Values ');\n",
    "\n",
    "## Ticket labels - List must be in alphabetical order\n",
    "ax.xaxis.set_ticklabels(os.listdir('../img/train/'))\n",
    "ax.yaxis.set_ticklabels(os.listdir('../img/train/'))\n",
    "\n",
    "## Display the visualization of the Confusion Matrix.\n",
    "plt.show()"
   ]
  },
  {
   "cell_type": "markdown",
   "id": "60db677d",
   "metadata": {},
   "source": [
    "### `Classification report` for text data"
   ]
  },
  {
   "cell_type": "code",
   "execution_count": 12,
   "id": "16877bf4",
   "metadata": {
    "ExecuteTime": {
     "end_time": "2022-04-08T11:48:15.897747Z",
     "start_time": "2022-04-08T11:48:15.859851Z"
    }
   },
   "outputs": [
    {
     "name": "stdout",
     "output_type": "stream",
     "text": [
      "               precision    recall  f1-score   support\n",
      "\n",
      "           ad       0.64      0.90      0.75      1000\n",
      "           cv       0.99      0.98      0.98      1000\n",
      "        email       0.97      0.95      0.96      1000\n",
      "         file       0.79      0.95      0.86      1000\n",
      "  handwritten       0.88      0.90      0.89      1000\n",
      "      invoice       0.96      0.84      0.89      1000\n",
      "       letter       0.91      0.90      0.90      1000\n",
      "   memorandum       0.92      0.90      0.91      1000\n",
      "    newspaper       0.89      0.76      0.82      1000\n",
      "  publication       0.89      0.89      0.89      1000\n",
      "       report       0.94      0.82      0.87      1000\n",
      "specification       0.97      0.92      0.94      1000\n",
      "       survey       0.95      0.84      0.89      1000\n",
      "\n",
      "     accuracy                           0.89     13000\n",
      "    macro avg       0.90      0.89      0.89     13000\n",
      " weighted avg       0.90      0.89      0.89     13000\n",
      "\n"
     ]
    }
   ],
   "source": [
    "from sklearn.metrics import classification_report\n",
    "\n",
    "print(classification_report(actual, preds,\n",
    "                            target_names= ['ad', 'cv', 'email', 'file', 'handwritten',\n",
    "                                           'invoice', 'letter', 'memorandum', 'newspaper',\n",
    "                                           'publication', 'report', 'specification', 'survey']))"
   ]
  },
  {
   "cell_type": "markdown",
   "id": "a0e4fd7d",
   "metadata": {},
   "source": [
    "### Thanks"
   ]
  }
 ],
 "metadata": {
  "kernelspec": {
   "display_name": "Python 3 (ipykernel)",
   "language": "python",
   "name": "python3"
  },
  "language_info": {
   "codemirror_mode": {
    "name": "ipython",
    "version": 3
   },
   "file_extension": ".py",
   "mimetype": "text/x-python",
   "name": "python",
   "nbconvert_exporter": "python",
   "pygments_lexer": "ipython3",
   "version": "3.8.12"
  }
 },
 "nbformat": 4,
 "nbformat_minor": 5
}
